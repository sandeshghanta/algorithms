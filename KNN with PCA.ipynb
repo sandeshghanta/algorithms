{
 "cells": [
  {
   "cell_type": "code",
   "execution_count": 5,
   "metadata": {},
   "outputs": [],
   "source": [
    "import numpy as np\n",
    "import matplotlib.image as img\n",
    "import operator\n",
    "import image\n",
    "import random\n",
    "import matplotlib.pyplot as plt\n",
    "import pandas as pd\n",
    "from numpy import linalg as LA\n",
    "imgMat = [np.zeros((92,112))]\n",
    "temp = np.arange(1, 41, 1)\n",
    "folder = 'C:/Users/P V Surya Chaitanya/Documents/ML/orl_faces/orl_faces/'\n",
    "for j in range(1, 41):\n",
    "    direction = folder + 's' + str(j) + '/'\n",
    "    for i in range(1, 11):\n",
    "        directory = direction + str(i) + '.pgm'\n",
    "        imag = img.imread(directory).T\n",
    "        cls = np.full((92,1),j)\n",
    "        imag=np.append(imag,cls,axis=1)\n",
    "        imgMat.append(imag)\n",
    "imgMat.pop(0)\n",
    "imgMat = np.array(imgMat)"
   ]
  },
  {
   "cell_type": "code",
   "execution_count": 8,
   "metadata": {},
   "outputs": [
    {
     "data": {
      "text/plain": [
       "array([[0., 0., 0., 0., 0.],\n",
       "       [0., 0., 0., 0., 0.],\n",
       "       [0., 0., 0., 0., 0.],\n",
       "       [0., 0., 0., 0., 0.],\n",
       "       [0., 0., 0., 0., 0.]])"
      ]
     },
     "execution_count": 8,
     "metadata": {},
     "output_type": "execute_result"
    }
   ],
   "source": [
    "x = list(range(0,400))\n",
    "random.seed(90)\n",
    "random.shuffle(x)\n",
    "trn =  x[:349]\n",
    "tst = x[350:399]\n",
    "test_data_matrix = imgMat[tst]\n",
    "training_data_matrix = imgMat[trn]\n",
    "\n",
    "sliced = [matrix[:,:-1] for matrix in training_data_matrix]\n",
    "u=np.mean(sliced,axis=0)\n",
    "\n",
    "g1=np.zeros((92,92))\n",
    "g2=np.zeros((112,112))\n",
    "g1.shape\n",
    "for i in range(len(training_data_matrix)):\n",
    "    temp=sliced[i]-u\n",
    "    g1=g1+np.matmul(temp,temp.transpose())\n",
    "    g2=g2+np.matmul(temp.transpose(),temp)\n",
    "    \n",
    "g1=g1/len(training_data_matrix)\n",
    "g2=g2/len(training_data_matrix)\n",
    "\n",
    "w, v = LA.eig(g1)\n",
    "idx = np.argsort(w)\n",
    "w=w[idx]\n",
    "v=v[-7:,idx]\n",
    "\n",
    "w1, v1 = LA.eig(g2)\n",
    "idx = np.argsort(w1)\n",
    "w1=w1[idx]\n",
    "v1=v1[-7:,idx]\n",
    "\n",
    "reducedImages = [np.zeros((5,5))]\n",
    "\n",
    "for i in range(len(training_data_matrix)):\n",
    "    reducedImages.append((np.matmul(np.matmul(v,sliced[i]),v1.transpose()),training_data_matrix[i][0][112]))\n",
    "reducedImages.pop(0)\n"
   ]
  },
  {
   "cell_type": "code",
   "execution_count": 9,
   "metadata": {},
   "outputs": [
    {
     "name": "stdout",
     "output_type": "stream",
     "text": [
      "0.9387755102040817\n"
     ]
    }
   ],
   "source": [
    "def argsortc(seq):\n",
    "    return sorted(range(len(seq)), key=seq.__getitem__)\n",
    "\n",
    "def knn_pca(train_data,test_data,u,v,k):  \n",
    "    dis = [ (LA.norm(matrix[0]-np.matmul(np.matmul(u,test_data),v)),matrix[1]) for matrix in train_data]\n",
    "    dis.sort()\n",
    "    return dis[0][1]\n",
    "\n",
    "count = 0\n",
    "for i in range(len(test_data_matrix)):\n",
    "    a = knn_pca(reducedImages,test_data_matrix[i][:,:-1],v,v1.transpose(),5)\n",
    "    b = test_data_matrix[i][0][112]\n",
    "    if(a==b):\n",
    "        count = count + 1\n",
    "print(count/len(test_data_matrix))\n",
    "    \n",
    "    \n",
    "    \n",
    "    "
   ]
  },
  {
   "cell_type": "code",
   "execution_count": null,
   "metadata": {},
   "outputs": [],
   "source": []
  },
  {
   "cell_type": "code",
   "execution_count": null,
   "metadata": {},
   "outputs": [],
   "source": []
  },
  {
   "cell_type": "code",
   "execution_count": null,
   "metadata": {},
   "outputs": [],
   "source": []
  }
 ],
 "metadata": {
  "kernelspec": {
   "display_name": "Python 3",
   "language": "python",
   "name": "python3"
  },
  "language_info": {
   "codemirror_mode": {
    "name": "ipython",
    "version": 3
   },
   "file_extension": ".py",
   "mimetype": "text/x-python",
   "name": "python",
   "nbconvert_exporter": "python",
   "pygments_lexer": "ipython3",
   "version": "3.7.4"
  }
 },
 "nbformat": 4,
 "nbformat_minor": 2
}
